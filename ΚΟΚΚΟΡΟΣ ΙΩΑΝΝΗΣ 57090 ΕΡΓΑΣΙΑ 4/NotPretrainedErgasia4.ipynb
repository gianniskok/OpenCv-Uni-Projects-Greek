{
  "nbformat": 4,
  "nbformat_minor": 0,
  "metadata": {
    "colab": {
      "name": "NotPretrainedErgasia4.ipynb",
      "provenance": [],
      "collapsed_sections": []
    },
    "kernelspec": {
      "name": "python3",
      "display_name": "Python 3"
    },
    "accelerator": "GPU"
  },
  "cells": [
    {
      "cell_type": "markdown",
      "metadata": {
        "id": "MMP2tOzQKNQk"
      },
      "source": [
        "IMPORT GOOGLE DRIVE ΓΙΑ ΠΡΟΣΒΑΣΗ ΣΤΟΝ ΦΑΚΕΛΟ imagedb_btsd "
      ]
    },
    {
      "cell_type": "code",
      "metadata": {
        "id": "yVFqug92KMlg",
        "colab": {
          "base_uri": "https://localhost:8080/"
        },
        "outputId": "f8acbed8-0269-442f-bb32-5351e95af90c"
      },
      "source": [
        "from google.colab import drive\r\n",
        "drive.mount('/content/drive')\r\n"
      ],
      "execution_count": null,
      "outputs": [
        {
          "output_type": "stream",
          "text": [
            "Drive already mounted at /content/drive; to attempt to forcibly remount, call drive.mount(\"/content/drive\", force_remount=True).\n"
          ],
          "name": "stdout"
        }
      ]
    },
    {
      "cell_type": "markdown",
      "metadata": {
        "id": "OJXuJf--JO9v"
      },
      "source": [
        "UNZIP ΤΟΝ ΦΑΚΕΛΟ IMAGEDB_BTSD ΜΕΣΑ ΣΤΟΝ ΦΑΚΕΛΟ CONTENT ΓΙΑ ΑΜΕΣΗ ΠΡΟΣΠΕΛΑΣΗ\r\n",
        "\r\n",
        "\r\n"
      ]
    },
    {
      "cell_type": "code",
      "metadata": {
        "id": "uRwhbk-SG8P_"
      },
      "source": [
        "import os\r\n",
        "import zipfile\r\n",
        "\r\n",
        "local_zip = '/content/drive/MyDrive/imagedb_btsd.zip'\r\n",
        "zip_ref = zipfile.ZipFile(local_zip, 'r')\r\n",
        "zip_ref.extractall('/content/ok')\r\n",
        "zip_ref.close()"
      ],
      "execution_count": null,
      "outputs": []
    },
    {
      "cell_type": "markdown",
      "metadata": {
        "id": "fua1v4RgJNLp"
      },
      "source": [
        "ΚΑΘΟΡΙΣΜΟΣ ΤΟΥ TRAIN DIRECTORY\r\n",
        "\r\n",
        "\r\n",
        "\r\n",
        "\r\n",
        "\r\n"
      ]
    },
    {
      "cell_type": "code",
      "metadata": {
        "id": "mYahW_sjOPrd",
        "colab": {
          "base_uri": "https://localhost:8080/"
        },
        "outputId": "5b55f7f6-b237-437b-ffe2-ecb01ad91b74"
      },
      "source": [
        "base_dir = '/content/ok'\r\n",
        "\r\n",
        "train_dir = os.path.join(base_dir, 'imagedb')\r\n",
        "print(train_dir)"
      ],
      "execution_count": null,
      "outputs": [
        {
          "output_type": "stream",
          "text": [
            "/content/ok/imagedb\n"
          ],
          "name": "stdout"
        }
      ]
    },
    {
      "cell_type": "markdown",
      "metadata": {
        "id": "H-WlDV1RRX8b"
      },
      "source": [
        "ΚΑΘΟΡΙΣΜΟΣ ΜΟΝΤΕΛΟΥ TRAINING"
      ]
    },
    {
      "cell_type": "code",
      "metadata": {
        "id": "fC1xyQgeRYoO",
        "colab": {
          "base_uri": "https://localhost:8080/"
        },
        "outputId": "d2750652-79df-4587-cf44-c0d4e205e145"
      },
      "source": [
        "import tensorflow as tf\r\n",
        "model = tf.keras.models.Sequential([\r\n",
        "  tf.keras.layers.Conv2D(16, (5, 5), strides=(1, 1), activation='relu', input_shape=(28, 28, 1), padding = 'same'),\r\n",
        "  tf.keras.layers.Conv2D(16, (5, 5), strides=(1, 1), activation='relu', input_shape=(28, 28, 1), padding = 'same'),\r\n",
        "  tf.keras.layers.Conv2D(16, (5, 5), strides=(1, 1), activation='relu', input_shape=(28, 28, 1), padding = 'same'),\r\n",
        "  tf.keras.layers.MaxPooling2D(pool_size=(2, 2), strides=(2, 2)),\r\n",
        "  tf.keras.layers.Conv2D(16, (5, 5), strides=(1, 1), activation='relu', input_shape=(14, 14, 1), padding = 'same'),\r\n",
        "  tf.keras.layers.Conv2D(16, (5, 5), strides=(1, 1), activation='relu', input_shape=(14, 14, 1), padding = 'same'),\r\n",
        "  tf.keras.layers.Conv2D(16, (5, 5), strides=(1, 1), activation='relu', input_shape=(14, 14, 1), padding = 'same'),\r\n",
        "  tf.keras.layers.MaxPooling2D(pool_size=(2, 2), strides=(2, 2)),\r\n",
        "  tf.keras.layers.Conv2D(16, (5, 5), strides=(1, 1), activation='relu', input_shape=(7, 7, 1), padding = 'same'),\r\n",
        "  tf.keras.layers.Conv2D(16, (5, 5), strides=(1, 1), activation='relu', input_shape=(7, 7, 1), padding = 'same'),\r\n",
        "  tf.keras.layers.Conv2D(16, (5, 5), strides=(1, 1), activation='relu', input_shape=(7, 7, 1), padding = 'same'),\r\n",
        "  tf.keras.layers.MaxPooling2D(pool_size=(2, 2), strides=(2, 2)),\r\n",
        "  tf.keras.layers.Flatten(),\r\n",
        "  tf.keras.layers.Dense(128, activation='relu'),\r\n",
        "  tf.keras.layers.Dense(34, activation='softmax') \r\n",
        "])\r\n",
        "\r\n",
        "model.compile(optimizer = tf.keras.optimizers.Adam(),\r\n",
        "              loss = 'categorical_crossentropy',\r\n",
        "              metrics=['accuracy'])\r\n",
        "\r\n",
        "model.summary()"
      ],
      "execution_count": null,
      "outputs": [
        {
          "output_type": "stream",
          "text": [
            "Model: \"sequential\"\n",
            "_________________________________________________________________\n",
            "Layer (type)                 Output Shape              Param #   \n",
            "=================================================================\n",
            "conv2d (Conv2D)              (None, 28, 28, 16)        416       \n",
            "_________________________________________________________________\n",
            "conv2d_1 (Conv2D)            (None, 28, 28, 16)        6416      \n",
            "_________________________________________________________________\n",
            "conv2d_2 (Conv2D)            (None, 28, 28, 16)        6416      \n",
            "_________________________________________________________________\n",
            "max_pooling2d (MaxPooling2D) (None, 14, 14, 16)        0         \n",
            "_________________________________________________________________\n",
            "conv2d_3 (Conv2D)            (None, 14, 14, 16)        6416      \n",
            "_________________________________________________________________\n",
            "conv2d_4 (Conv2D)            (None, 14, 14, 16)        6416      \n",
            "_________________________________________________________________\n",
            "conv2d_5 (Conv2D)            (None, 14, 14, 16)        6416      \n",
            "_________________________________________________________________\n",
            "max_pooling2d_1 (MaxPooling2 (None, 7, 7, 16)          0         \n",
            "_________________________________________________________________\n",
            "conv2d_6 (Conv2D)            (None, 7, 7, 16)          6416      \n",
            "_________________________________________________________________\n",
            "conv2d_7 (Conv2D)            (None, 7, 7, 16)          6416      \n",
            "_________________________________________________________________\n",
            "conv2d_8 (Conv2D)            (None, 7, 7, 16)          6416      \n",
            "_________________________________________________________________\n",
            "max_pooling2d_2 (MaxPooling2 (None, 3, 3, 16)          0         \n",
            "_________________________________________________________________\n",
            "flatten (Flatten)            (None, 144)               0         \n",
            "_________________________________________________________________\n",
            "dense (Dense)                (None, 128)               18560     \n",
            "_________________________________________________________________\n",
            "dense_1 (Dense)              (None, 34)                4386      \n",
            "=================================================================\n",
            "Total params: 74,690\n",
            "Trainable params: 74,690\n",
            "Non-trainable params: 0\n",
            "_________________________________________________________________\n"
          ],
          "name": "stdout"
        }
      ]
    },
    {
      "cell_type": "markdown",
      "metadata": {
        "id": "osiTW9WbObwh"
      },
      "source": [
        "ΚΑΘΟΡΙΣΜΟΣ ΤΩΝ TRAIN ΚΑΙ VALIDATION DATAGENS ΜΕ ΟΡΙΣΜΟ ΔΙΑΦΟΡΩΝ AUGMENTETIONS ΣΤΟ TRAIN DATAGEN"
      ]
    },
    {
      "cell_type": "code",
      "metadata": {
        "id": "ISVNaAilOb_O",
        "colab": {
          "base_uri": "https://localhost:8080/"
        },
        "outputId": "26e4b69c-c5cf-4b14-e811-8b43f45d9399"
      },
      "source": [
        "from tensorflow.keras.preprocessing.image import ImageDataGenerator\r\n",
        "shift = 0.03\r\n",
        "train_datagen = ImageDataGenerator(rescale = 1./255,\r\n",
        "                                   validation_split=0.2,\r\n",
        "                                   rotation_range=90,\r\n",
        "                                   zoom_range=0.15,\r\n",
        "                                   width_shift_range=shift,\r\n",
        "                                   height_shift_range=shift\r\n",
        "                                   )\r\n",
        "\r\n",
        "val_datagen = ImageDataGenerator(rescale = 1./255,validation_split=0.2)\r\n",
        "\r\n",
        "train_generator = train_datagen.flow_from_directory(train_dir,batch_size = 80,\r\n",
        "                                                    class_mode = 'categorical',\r\n",
        "                                                    target_size=(28,28),\r\n",
        "                                                    color_mode='grayscale',\r\n",
        "                                                    shuffle = True,\r\n",
        "                                                    subset = 'training',\r\n",
        "                                                    seed=4\r\n",
        "                                                    \r\n",
        "                                                    )\r\n",
        "validation_generator = val_datagen.flow_from_directory(train_dir,\r\n",
        "                                                    batch_size = 80,\r\n",
        "                                                    class_mode = 'categorical',\r\n",
        "                                                    color_mode='grayscale',\r\n",
        "                                                    target_size=(28,28),\r\n",
        "                                                    shuffle = True,\r\n",
        "                                                    subset = 'validation',\r\n",
        "                                                    seed=4\r\n",
        "                                                    )\r\n"
      ],
      "execution_count": null,
      "outputs": [
        {
          "output_type": "stream",
          "text": [
            "Found 2457 images belonging to 34 classes.\n",
            "Found 599 images belonging to 34 classes.\n"
          ],
          "name": "stdout"
        }
      ]
    },
    {
      "cell_type": "markdown",
      "metadata": {
        "id": "v6ixkLOVR1cp"
      },
      "source": [
        "OΡΙΣΜΟΣ CALLBACKS ΓΙΑ ΑΠΟΤΕΛΕΣΜΑΤΙΚΟΤΕΡΗ ΠΡΟΠΟΝΗΣΗ ΤΟΥ ΣΥΣΤΗΜΑΤΟΣ ΔΗΜΙΟΥΡΓΙΑ ΤΟΥ ΜΟΝΤΕΛΟΥ"
      ]
    },
    {
      "cell_type": "code",
      "metadata": {
        "id": "BSqYWAY0R1wq",
        "colab": {
          "base_uri": "https://localhost:8080/"
        },
        "outputId": "6bb60d3a-aa9c-45d4-b5ed-d131b6c64734"
      },
      "source": [
        "import datetime\r\n",
        "\r\n",
        "callbacks = []\r\n",
        "save_best_callback = tf.keras.callbacks.ModelCheckpoint(f'best_weights.hdf5', save_best_only=True, verbose=1)\r\n",
        "callbacks.append(save_best_callback)\r\n",
        "\r\n",
        "early_stop_callback = tf.keras.callbacks.EarlyStopping(patience=15, restore_best_weights=True, verbose=1)\r\n",
        "callbacks.append(early_stop_callback)\r\n",
        "\r\n",
        "history = model.fit(train_generator,\r\n",
        "                              validation_data=validation_generator,\r\n",
        "                              steps_per_epoch=30,\r\n",
        "                              epochs=70,\r\n",
        "                              validation_steps=5,\r\n",
        "                              verbose=1,\r\n",
        "                              callbacks=callbacks\r\n",
        "                              )"
      ],
      "execution_count": null,
      "outputs": [
        {
          "output_type": "stream",
          "text": [
            "Epoch 1/70\n",
            "30/30 [==============================] - 9s 62ms/step - loss: 3.3856 - accuracy: 0.0698 - val_loss: 3.1779 - val_accuracy: 0.1100\n",
            "\n",
            "Epoch 00001: val_loss improved from inf to 3.17795, saving model to best_weights.hdf5\n",
            "Epoch 2/70\n",
            "30/30 [==============================] - 1s 46ms/step - loss: 3.2042 - accuracy: 0.1334 - val_loss: 3.0371 - val_accuracy: 0.1850\n",
            "\n",
            "Epoch 00002: val_loss improved from 3.17795 to 3.03706, saving model to best_weights.hdf5\n",
            "Epoch 3/70\n",
            "30/30 [==============================] - 1s 47ms/step - loss: 3.0520 - accuracy: 0.1898 - val_loss: 2.8612 - val_accuracy: 0.1675\n",
            "\n",
            "Epoch 00003: val_loss improved from 3.03706 to 2.86116, saving model to best_weights.hdf5\n",
            "Epoch 4/70\n",
            "30/30 [==============================] - 1s 47ms/step - loss: 2.7987 - accuracy: 0.2287 - val_loss: 2.3274 - val_accuracy: 0.3875\n",
            "\n",
            "Epoch 00004: val_loss improved from 2.86116 to 2.32744, saving model to best_weights.hdf5\n",
            "Epoch 5/70\n",
            "30/30 [==============================] - 1s 47ms/step - loss: 2.3997 - accuracy: 0.3248 - val_loss: 2.0024 - val_accuracy: 0.4600\n",
            "\n",
            "Epoch 00005: val_loss improved from 2.32744 to 2.00236, saving model to best_weights.hdf5\n",
            "Epoch 6/70\n",
            "30/30 [==============================] - 1s 46ms/step - loss: 2.0746 - accuracy: 0.4343 - val_loss: 1.7075 - val_accuracy: 0.5450\n",
            "\n",
            "Epoch 00006: val_loss improved from 2.00236 to 1.70749, saving model to best_weights.hdf5\n",
            "Epoch 7/70\n",
            "30/30 [==============================] - 1s 47ms/step - loss: 1.7877 - accuracy: 0.5172 - val_loss: 1.4300 - val_accuracy: 0.5625\n",
            "\n",
            "Epoch 00007: val_loss improved from 1.70749 to 1.43002, saving model to best_weights.hdf5\n",
            "Epoch 8/70\n",
            "30/30 [==============================] - 1s 47ms/step - loss: 1.5489 - accuracy: 0.5493 - val_loss: 1.4253 - val_accuracy: 0.5700\n",
            "\n",
            "Epoch 00008: val_loss improved from 1.43002 to 1.42534, saving model to best_weights.hdf5\n",
            "Epoch 9/70\n",
            "30/30 [==============================] - 1s 46ms/step - loss: 1.5426 - accuracy: 0.5516 - val_loss: 1.3612 - val_accuracy: 0.5925\n",
            "\n",
            "Epoch 00009: val_loss improved from 1.42534 to 1.36117, saving model to best_weights.hdf5\n",
            "Epoch 10/70\n",
            "30/30 [==============================] - 1s 47ms/step - loss: 1.3583 - accuracy: 0.6007 - val_loss: 1.3410 - val_accuracy: 0.5850\n",
            "\n",
            "Epoch 00010: val_loss improved from 1.36117 to 1.34101, saving model to best_weights.hdf5\n",
            "Epoch 11/70\n",
            "30/30 [==============================] - 1s 46ms/step - loss: 1.1955 - accuracy: 0.6225 - val_loss: 0.9841 - val_accuracy: 0.6925\n",
            "\n",
            "Epoch 00011: val_loss improved from 1.34101 to 0.98405, saving model to best_weights.hdf5\n",
            "Epoch 12/70\n",
            "30/30 [==============================] - 1s 47ms/step - loss: 1.0695 - accuracy: 0.6693 - val_loss: 1.0302 - val_accuracy: 0.6750\n",
            "\n",
            "Epoch 00012: val_loss did not improve from 0.98405\n",
            "Epoch 13/70\n",
            "30/30 [==============================] - 1s 46ms/step - loss: 1.0549 - accuracy: 0.6737 - val_loss: 1.0092 - val_accuracy: 0.6550\n",
            "\n",
            "Epoch 00013: val_loss did not improve from 0.98405\n",
            "Epoch 14/70\n",
            "30/30 [==============================] - 1s 47ms/step - loss: 1.0265 - accuracy: 0.6933 - val_loss: 1.0071 - val_accuracy: 0.7150\n",
            "\n",
            "Epoch 00014: val_loss did not improve from 0.98405\n",
            "Epoch 15/70\n",
            "30/30 [==============================] - 1s 47ms/step - loss: 0.9218 - accuracy: 0.7060 - val_loss: 0.7993 - val_accuracy: 0.7675\n",
            "\n",
            "Epoch 00015: val_loss improved from 0.98405 to 0.79930, saving model to best_weights.hdf5\n",
            "Epoch 16/70\n",
            "30/30 [==============================] - 1s 47ms/step - loss: 0.9147 - accuracy: 0.7101 - val_loss: 0.8058 - val_accuracy: 0.7175\n",
            "\n",
            "Epoch 00016: val_loss did not improve from 0.79930\n",
            "Epoch 17/70\n",
            "30/30 [==============================] - 1s 47ms/step - loss: 0.8860 - accuracy: 0.7176 - val_loss: 0.8934 - val_accuracy: 0.7275\n",
            "\n",
            "Epoch 00017: val_loss did not improve from 0.79930\n",
            "Epoch 18/70\n",
            "30/30 [==============================] - 1s 47ms/step - loss: 0.8321 - accuracy: 0.7294 - val_loss: 0.8449 - val_accuracy: 0.7450\n",
            "\n",
            "Epoch 00018: val_loss did not improve from 0.79930\n",
            "Epoch 19/70\n",
            "30/30 [==============================] - 1s 48ms/step - loss: 0.7576 - accuracy: 0.7639 - val_loss: 0.9370 - val_accuracy: 0.7175\n",
            "\n",
            "Epoch 00019: val_loss did not improve from 0.79930\n",
            "Epoch 20/70\n",
            "30/30 [==============================] - 1s 48ms/step - loss: 0.7197 - accuracy: 0.7694 - val_loss: 0.8030 - val_accuracy: 0.7425\n",
            "\n",
            "Epoch 00020: val_loss did not improve from 0.79930\n",
            "Epoch 21/70\n",
            "30/30 [==============================] - 2s 51ms/step - loss: 0.7602 - accuracy: 0.7575 - val_loss: 0.7976 - val_accuracy: 0.7525\n",
            "\n",
            "Epoch 00021: val_loss improved from 0.79930 to 0.79758, saving model to best_weights.hdf5\n",
            "Epoch 22/70\n",
            "30/30 [==============================] - 1s 47ms/step - loss: 0.7058 - accuracy: 0.7734 - val_loss: 0.7044 - val_accuracy: 0.7925\n",
            "\n",
            "Epoch 00022: val_loss improved from 0.79758 to 0.70435, saving model to best_weights.hdf5\n",
            "Epoch 23/70\n",
            "30/30 [==============================] - 1s 47ms/step - loss: 0.6793 - accuracy: 0.7909 - val_loss: 0.8644 - val_accuracy: 0.7300\n",
            "\n",
            "Epoch 00023: val_loss did not improve from 0.70435\n",
            "Epoch 24/70\n",
            "30/30 [==============================] - 1s 46ms/step - loss: 0.6863 - accuracy: 0.7741 - val_loss: 0.7533 - val_accuracy: 0.7775\n",
            "\n",
            "Epoch 00024: val_loss did not improve from 0.70435\n",
            "Epoch 25/70\n",
            "30/30 [==============================] - 1s 46ms/step - loss: 0.6006 - accuracy: 0.8121 - val_loss: 0.6282 - val_accuracy: 0.8025\n",
            "\n",
            "Epoch 00025: val_loss improved from 0.70435 to 0.62815, saving model to best_weights.hdf5\n",
            "Epoch 26/70\n",
            "30/30 [==============================] - 1s 46ms/step - loss: 0.5673 - accuracy: 0.8228 - val_loss: 0.6962 - val_accuracy: 0.7750\n",
            "\n",
            "Epoch 00026: val_loss did not improve from 0.62815\n",
            "Epoch 27/70\n",
            "30/30 [==============================] - 1s 47ms/step - loss: 0.5519 - accuracy: 0.8315 - val_loss: 0.6910 - val_accuracy: 0.8075\n",
            "\n",
            "Epoch 00027: val_loss did not improve from 0.62815\n",
            "Epoch 28/70\n",
            "30/30 [==============================] - 1s 47ms/step - loss: 0.5187 - accuracy: 0.8293 - val_loss: 0.8692 - val_accuracy: 0.7800\n",
            "\n",
            "Epoch 00028: val_loss did not improve from 0.62815\n",
            "Epoch 29/70\n",
            "30/30 [==============================] - 1s 46ms/step - loss: 0.5184 - accuracy: 0.8376 - val_loss: 0.7027 - val_accuracy: 0.8150\n",
            "\n",
            "Epoch 00029: val_loss did not improve from 0.62815\n",
            "Epoch 30/70\n",
            "30/30 [==============================] - 1s 46ms/step - loss: 0.5246 - accuracy: 0.8283 - val_loss: 0.6501 - val_accuracy: 0.8200\n",
            "\n",
            "Epoch 00030: val_loss did not improve from 0.62815\n",
            "Epoch 31/70\n",
            "30/30 [==============================] - 1s 46ms/step - loss: 0.5004 - accuracy: 0.8382 - val_loss: 0.5265 - val_accuracy: 0.8375\n",
            "\n",
            "Epoch 00031: val_loss improved from 0.62815 to 0.52647, saving model to best_weights.hdf5\n",
            "Epoch 32/70\n",
            "30/30 [==============================] - 1s 47ms/step - loss: 0.4642 - accuracy: 0.8450 - val_loss: 0.5868 - val_accuracy: 0.8250\n",
            "\n",
            "Epoch 00032: val_loss did not improve from 0.52647\n",
            "Epoch 33/70\n",
            "30/30 [==============================] - 1s 47ms/step - loss: 0.4538 - accuracy: 0.8568 - val_loss: 0.5003 - val_accuracy: 0.8650\n",
            "\n",
            "Epoch 00033: val_loss improved from 0.52647 to 0.50026, saving model to best_weights.hdf5\n",
            "Epoch 34/70\n",
            "30/30 [==============================] - 1s 47ms/step - loss: 0.4042 - accuracy: 0.8660 - val_loss: 0.5286 - val_accuracy: 0.8450\n",
            "\n",
            "Epoch 00034: val_loss did not improve from 0.50026\n",
            "Epoch 35/70\n",
            "30/30 [==============================] - 1s 48ms/step - loss: 0.4322 - accuracy: 0.8519 - val_loss: 0.6780 - val_accuracy: 0.8025\n",
            "\n",
            "Epoch 00035: val_loss did not improve from 0.50026\n",
            "Epoch 36/70\n",
            "30/30 [==============================] - 1s 46ms/step - loss: 0.4853 - accuracy: 0.8348 - val_loss: 0.5467 - val_accuracy: 0.8350\n",
            "\n",
            "Epoch 00036: val_loss did not improve from 0.50026\n",
            "Epoch 37/70\n",
            "30/30 [==============================] - 1s 47ms/step - loss: 0.4285 - accuracy: 0.8672 - val_loss: 0.5315 - val_accuracy: 0.8400\n",
            "\n",
            "Epoch 00037: val_loss did not improve from 0.50026\n",
            "Epoch 38/70\n",
            "30/30 [==============================] - 1s 47ms/step - loss: 0.4317 - accuracy: 0.8596 - val_loss: 0.6178 - val_accuracy: 0.8400\n",
            "\n",
            "Epoch 00038: val_loss did not improve from 0.50026\n",
            "Epoch 39/70\n",
            "30/30 [==============================] - 1s 47ms/step - loss: 0.3668 - accuracy: 0.8754 - val_loss: 0.5815 - val_accuracy: 0.8525\n",
            "\n",
            "Epoch 00039: val_loss did not improve from 0.50026\n",
            "Epoch 40/70\n",
            "30/30 [==============================] - 1s 48ms/step - loss: 0.4049 - accuracy: 0.8729 - val_loss: 0.5433 - val_accuracy: 0.8325\n",
            "\n",
            "Epoch 00040: val_loss did not improve from 0.50026\n",
            "Epoch 41/70\n",
            "30/30 [==============================] - 1s 47ms/step - loss: 0.3499 - accuracy: 0.8854 - val_loss: 0.4337 - val_accuracy: 0.8850\n",
            "\n",
            "Epoch 00041: val_loss improved from 0.50026 to 0.43372, saving model to best_weights.hdf5\n",
            "Epoch 42/70\n",
            "30/30 [==============================] - 1s 47ms/step - loss: 0.3461 - accuracy: 0.8843 - val_loss: 0.4756 - val_accuracy: 0.8725\n",
            "\n",
            "Epoch 00042: val_loss did not improve from 0.43372\n",
            "Epoch 43/70\n",
            "30/30 [==============================] - 1s 48ms/step - loss: 0.3274 - accuracy: 0.8874 - val_loss: 0.5884 - val_accuracy: 0.8350\n",
            "\n",
            "Epoch 00043: val_loss did not improve from 0.43372\n",
            "Epoch 44/70\n",
            "30/30 [==============================] - 1s 49ms/step - loss: 0.3964 - accuracy: 0.8655 - val_loss: 0.4653 - val_accuracy: 0.8775\n",
            "\n",
            "Epoch 00044: val_loss did not improve from 0.43372\n",
            "Epoch 45/70\n",
            "30/30 [==============================] - 1s 47ms/step - loss: 0.3736 - accuracy: 0.8927 - val_loss: 0.4515 - val_accuracy: 0.8875\n",
            "\n",
            "Epoch 00045: val_loss did not improve from 0.43372\n",
            "Epoch 46/70\n",
            "30/30 [==============================] - 1s 46ms/step - loss: 0.3399 - accuracy: 0.8856 - val_loss: 0.4077 - val_accuracy: 0.8775\n",
            "\n",
            "Epoch 00046: val_loss improved from 0.43372 to 0.40766, saving model to best_weights.hdf5\n",
            "Epoch 47/70\n",
            "30/30 [==============================] - 1s 47ms/step - loss: 0.2950 - accuracy: 0.9080 - val_loss: 0.3735 - val_accuracy: 0.8925\n",
            "\n",
            "Epoch 00047: val_loss improved from 0.40766 to 0.37347, saving model to best_weights.hdf5\n",
            "Epoch 48/70\n",
            "30/30 [==============================] - 1s 46ms/step - loss: 0.2800 - accuracy: 0.9128 - val_loss: 0.5467 - val_accuracy: 0.8550\n",
            "\n",
            "Epoch 00048: val_loss did not improve from 0.37347\n",
            "Epoch 49/70\n",
            "30/30 [==============================] - 1s 47ms/step - loss: 0.3312 - accuracy: 0.8904 - val_loss: 0.3918 - val_accuracy: 0.8750\n",
            "\n",
            "Epoch 00049: val_loss did not improve from 0.37347\n",
            "Epoch 50/70\n",
            "30/30 [==============================] - 1s 47ms/step - loss: 0.3104 - accuracy: 0.9056 - val_loss: 0.5251 - val_accuracy: 0.8600\n",
            "\n",
            "Epoch 00050: val_loss did not improve from 0.37347\n",
            "Epoch 51/70\n",
            "30/30 [==============================] - 1s 47ms/step - loss: 0.3600 - accuracy: 0.8940 - val_loss: 0.4456 - val_accuracy: 0.8650\n",
            "\n",
            "Epoch 00051: val_loss did not improve from 0.37347\n",
            "Epoch 52/70\n",
            "30/30 [==============================] - 1s 47ms/step - loss: 0.2805 - accuracy: 0.9097 - val_loss: 0.4132 - val_accuracy: 0.8825\n",
            "\n",
            "Epoch 00052: val_loss did not improve from 0.37347\n",
            "Epoch 53/70\n",
            "30/30 [==============================] - 1s 47ms/step - loss: 0.2850 - accuracy: 0.9063 - val_loss: 0.4450 - val_accuracy: 0.8775\n",
            "\n",
            "Epoch 00053: val_loss did not improve from 0.37347\n",
            "Epoch 54/70\n",
            "30/30 [==============================] - 1s 47ms/step - loss: 0.2524 - accuracy: 0.9110 - val_loss: 0.3538 - val_accuracy: 0.9075\n",
            "\n",
            "Epoch 00054: val_loss improved from 0.37347 to 0.35382, saving model to best_weights.hdf5\n",
            "Epoch 55/70\n",
            "30/30 [==============================] - 1s 46ms/step - loss: 0.3123 - accuracy: 0.8921 - val_loss: 0.4647 - val_accuracy: 0.8775\n",
            "\n",
            "Epoch 00055: val_loss did not improve from 0.35382\n",
            "Epoch 56/70\n",
            "30/30 [==============================] - 1s 47ms/step - loss: 0.2895 - accuracy: 0.9043 - val_loss: 0.4274 - val_accuracy: 0.9125\n",
            "\n",
            "Epoch 00056: val_loss did not improve from 0.35382\n",
            "Epoch 57/70\n",
            "30/30 [==============================] - 1s 48ms/step - loss: 0.2443 - accuracy: 0.9182 - val_loss: 0.3404 - val_accuracy: 0.9050\n",
            "\n",
            "Epoch 00057: val_loss improved from 0.35382 to 0.34041, saving model to best_weights.hdf5\n",
            "Epoch 58/70\n",
            "30/30 [==============================] - 1s 46ms/step - loss: 0.2719 - accuracy: 0.9170 - val_loss: 0.3608 - val_accuracy: 0.8975\n",
            "\n",
            "Epoch 00058: val_loss did not improve from 0.34041\n",
            "Epoch 59/70\n",
            "30/30 [==============================] - 1s 47ms/step - loss: 0.2498 - accuracy: 0.9174 - val_loss: 0.4532 - val_accuracy: 0.8875\n",
            "\n",
            "Epoch 00059: val_loss did not improve from 0.34041\n",
            "Epoch 60/70\n",
            "30/30 [==============================] - 1s 47ms/step - loss: 0.2320 - accuracy: 0.9272 - val_loss: 0.3781 - val_accuracy: 0.8875\n",
            "\n",
            "Epoch 00060: val_loss did not improve from 0.34041\n",
            "Epoch 61/70\n",
            "30/30 [==============================] - 1s 47ms/step - loss: 0.2706 - accuracy: 0.9160 - val_loss: 0.4172 - val_accuracy: 0.8750\n",
            "\n",
            "Epoch 00061: val_loss did not improve from 0.34041\n",
            "Epoch 62/70\n",
            "30/30 [==============================] - 1s 47ms/step - loss: 0.2420 - accuracy: 0.9195 - val_loss: 0.4076 - val_accuracy: 0.8900\n",
            "\n",
            "Epoch 00062: val_loss did not improve from 0.34041\n",
            "Epoch 63/70\n",
            "30/30 [==============================] - 1s 47ms/step - loss: 0.2334 - accuracy: 0.9279 - val_loss: 0.3790 - val_accuracy: 0.8750\n",
            "\n",
            "Epoch 00063: val_loss did not improve from 0.34041\n",
            "Epoch 64/70\n",
            "30/30 [==============================] - 1s 47ms/step - loss: 0.2444 - accuracy: 0.9232 - val_loss: 0.3421 - val_accuracy: 0.9050\n",
            "\n",
            "Epoch 00064: val_loss did not improve from 0.34041\n",
            "Epoch 65/70\n",
            "30/30 [==============================] - 1s 48ms/step - loss: 0.1968 - accuracy: 0.9314 - val_loss: 0.3619 - val_accuracy: 0.9025\n",
            "\n",
            "Epoch 00065: val_loss did not improve from 0.34041\n",
            "Epoch 66/70\n",
            "30/30 [==============================] - 1s 47ms/step - loss: 0.2545 - accuracy: 0.9157 - val_loss: 0.4223 - val_accuracy: 0.8775\n",
            "\n",
            "Epoch 00066: val_loss did not improve from 0.34041\n",
            "Epoch 67/70\n",
            "30/30 [==============================] - 1s 47ms/step - loss: 0.2379 - accuracy: 0.9177 - val_loss: 0.3447 - val_accuracy: 0.8750\n",
            "\n",
            "Epoch 00067: val_loss did not improve from 0.34041\n",
            "Epoch 68/70\n",
            "30/30 [==============================] - 1s 47ms/step - loss: 0.2866 - accuracy: 0.9046 - val_loss: 0.3097 - val_accuracy: 0.8950\n",
            "\n",
            "Epoch 00068: val_loss improved from 0.34041 to 0.30965, saving model to best_weights.hdf5\n",
            "Epoch 69/70\n",
            "30/30 [==============================] - 1s 47ms/step - loss: 0.2276 - accuracy: 0.9197 - val_loss: 0.2964 - val_accuracy: 0.9175\n",
            "\n",
            "Epoch 00069: val_loss improved from 0.30965 to 0.29641, saving model to best_weights.hdf5\n",
            "Epoch 70/70\n",
            "30/30 [==============================] - 1s 47ms/step - loss: 0.2226 - accuracy: 0.9303 - val_loss: 0.3421 - val_accuracy: 0.9025\n",
            "\n",
            "Epoch 00070: val_loss did not improve from 0.29641\n"
          ],
          "name": "stdout"
        }
      ]
    },
    {
      "cell_type": "markdown",
      "metadata": {
        "id": "D7jfN0NTTITK"
      },
      "source": [
        "IMPORT TEST DATAGEN ΚΑΙ ΔΗΜΙΟΥΡΓΙΑ TEST DIRECTORY ΓΙΑ ΑΞΙΟΛΟΓΗΣΗ ΤΟΥ ΣΥΣΤΗΜΑΤΟΣ"
      ]
    },
    {
      "cell_type": "code",
      "metadata": {
        "id": "ywjmicgsTVhS",
        "colab": {
          "base_uri": "https://localhost:8080/"
        },
        "outputId": "8b4bee85-d0e5-4688-8a54-f5bc1b80d91e"
      },
      "source": [
        "test_datagen  = ImageDataGenerator(rescale=1./255)\r\n",
        "test_dir = os.path.join(base_dir, 'imagedb_test')\r\n",
        "test_generator =  test_datagen.flow_from_directory(test_dir,\r\n",
        "                                                         batch_size=10,\r\n",
        "                                                         class_mode  = 'categorical',\r\n",
        "                                                         color_mode='grayscale',\r\n",
        "                                                         target_size=(28,28)\r\n",
        "                                                         ) \r\n",
        "loss, acc = model.evaluate(test_generator)"
      ],
      "execution_count": null,
      "outputs": [
        {
          "output_type": "stream",
          "text": [
            "Found 2149 images belonging to 34 classes.\n",
            "215/215 [==============================] - 1s 4ms/step - loss: 0.2462 - accuracy: 0.9372\n"
          ],
          "name": "stdout"
        }
      ]
    },
    {
      "cell_type": "code",
      "metadata": {
        "id": "_1ga1omVUVam",
        "colab": {
          "resources": {
            "http://localhost:8080/nbextensions/google.colab/files.js": {
              "data": "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",
              "ok": true,
              "headers": [
                [
                  "content-type",
                  "application/javascript"
                ]
              ],
              "status": 200,
              "status_text": "OK"
            }
          },
          "base_uri": "https://localhost:8080/",
          "height": 39
        },
        "outputId": "c6419171-2c1a-40e3-c5b7-6e5d2d374e27"
      },
      "source": [
        "import numpy as np\r\n",
        "from google.colab import files\r\n",
        "from keras.preprocessing import image\r\n",
        "import matplotlib.pyplot as plt\r\n",
        "uploaded = files.upload()\r\n",
        " \r\n",
        "for fn in uploaded.keys():\r\n",
        " \r\n",
        "  # predicting images\r\n",
        "  path = '/content/' + fn\r\n",
        "  img = image.load_img(path, target_size=(28, 28), grayscale=True, interpolation='bilinear')\r\n",
        "  plt.imshow(image.load_img(path), cmap='gray')\r\n",
        "  plt.show()\r\n",
        "  plt.imshow(img, cmap='gray')\r\n",
        "  plt.show()\r\n",
        "\r\n",
        "  x = image.img_to_array(img)\r\n",
        "  x = np.expand_dims(x, axis=0)\r\n",
        "  \r\n",
        "  images = np.vstack([x])\r\n",
        "  \r\n",
        "  model = tf.keras.models.load_model('/content/best_weights.hdf5')\r\n",
        "  classes_pred = model.predict(images, batch_size=10)\r\n",
        "  classes = ['apple', 'banana', 'strawberry']\r\n",
        "  print(f'\\n\\n\\n{classes}')\r\n",
        "  print(f'\\n\\n\\nSoftmax Output: {classes_pred}')\r\n",
        "  print(f'\\n\\n\\n{fn} is a(n) {classes[classes_pred.argmax()]}\\n\\n\\n')\r\n",
        " "
      ],
      "execution_count": null,
      "outputs": [
        {
          "output_type": "display_data",
          "data": {
            "text/html": [
              "\n",
              "     <input type=\"file\" id=\"files-9aec611e-e5a0-45e9-846a-d5754019f26e\" name=\"files[]\" multiple disabled\n",
              "        style=\"border:none\" />\n",
              "     <output id=\"result-9aec611e-e5a0-45e9-846a-d5754019f26e\">\n",
              "      Upload widget is only available when the cell has been executed in the\n",
              "      current browser session. Please rerun this cell to enable.\n",
              "      </output>\n",
              "      <script src=\"/nbextensions/google.colab/files.js\"></script> "
            ],
            "text/plain": [
              "<IPython.core.display.HTML object>"
            ]
          },
          "metadata": {
            "tags": []
          }
        }
      ]
    }
  ]
}